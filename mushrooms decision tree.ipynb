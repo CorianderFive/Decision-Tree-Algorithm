{
 "cells": [
  {
   "cell_type": "code",
   "execution_count": 175,
   "id": "2ccd298c",
   "metadata": {},
   "outputs": [],
   "source": [
    "import math "
   ]
  },
  {
   "cell_type": "code",
   "execution_count": 176,
   "id": "929b0785",
   "metadata": {},
   "outputs": [],
   "source": [
    "def cal_entropy(lists,total_instances):\n",
    "    p_label = 0\n",
    "    e_label = 0\n",
    "    instances = len(lists)\n",
    "    for list in lists:\n",
    "        if list[0] == 'p':\n",
    "            p_label += 1\n",
    "        elif list[0] == 'e':\n",
    "            e_label += 1\n",
    "    x = p_label/instances\n",
    "    y = e_label/instances\n",
    "    if x != 0 and y != 0:\n",
    "        output = -(x) * math.log(x,2) - (y * math.log(y,2))\n",
    "    elif x == 0:\n",
    "        output = -(y * math.log(y,2))\n",
    "    else:\n",
    "        output = -(x * math.log(x,2)) \n",
    "    report = (instances/float(total_instances)) * output\n",
    "    return report"
   ]
  },
  {
   "cell_type": "code",
   "execution_count": 177,
   "id": "9fb395f1",
   "metadata": {},
   "outputs": [],
   "source": [
    "def cal_expected_entropy(lists,attribute_num):\n",
    "    total_instances = len(lists)\n",
    "    labels = {}\n",
    "    expected_entropy = 0\n",
    "    for line in lists:\n",
    "        if line[attribute_num] not in labels:\n",
    "            labels[line[attribute_num]] = [line]\n",
    "        else:\n",
    "            labels[line[attribute_num]].append(line)\n",
    "    for value in labels.values():\n",
    "        expected_entropy += cal_entropy(value,total_instances)\n",
    "    return expected_entropy,labels"
   ]
  },
  {
   "cell_type": "code",
   "execution_count": 178,
   "id": "4e416824",
   "metadata": {},
   "outputs": [],
   "source": [
    "def pick_highest_IG(lists):\n",
    "    current_entropy = cal_entropy(lists,len(lists))\n",
    "    highest_IG = 0\n",
    "    best_attribute = 99\n",
    "    classifier_dict = {}\n",
    "    for i in range(1,len(lists[0])):\n",
    "        expected_entropy,labels = cal_expected_entropy(lists,i)\n",
    "        IG = current_entropy - expected_entropy\n",
    "        if IG > highest_IG:\n",
    "            highest_IG = IG\n",
    "            best_attribute = i\n",
    "            classifier_dict = labels\n",
    "    return best_attribute,classifier_dict"
   ]
  },
  {
   "cell_type": "code",
   "execution_count": 179,
   "id": "c13f567a",
   "metadata": {},
   "outputs": [],
   "source": [
    "def create_decision_tree(dataset,depth,stopping_depth):\n",
    "    output_list = [i[0] for i in dataset]\n",
    "    count_dict = {'e': 0, 'p': 0}\n",
    "    for i in dataset:\n",
    "        count_dict[i[0]] += 1\n",
    "    find_max = max(count_dict, key=count_dict.get)\n",
    "    if depth == stopping_depth:\n",
    "        return find_max\n",
    "    if all(i == output_list[0] for i in output_list):\n",
    "        return output_list[0]\n",
    "    if len(dataset[0]) == 2:\n",
    "        return find_max\n",
    "    attribute_index,classifier_dict = pick_highest_IG(dataset)\n",
    "    attribute_name = mushroom_labels[attribute_index]\n",
    "    del(mushroom_labels[attribute_index])\n",
    "    for i in classifier_dict.values():\n",
    "        for j in i:\n",
    "            del(j[attribute_index])\n",
    "    decision_tree = {attribute_name:{}}\n",
    "    for key,value in classifier_dict.items():\n",
    "        decision_tree[attribute_name][key] = create_decision_tree(value,depth+1,stopping_depth)\n",
    "    return decision_tree"
   ]
  },
  {
   "cell_type": "code",
   "execution_count": 180,
   "id": "1cae5736",
   "metadata": {},
   "outputs": [],
   "source": [
    "def test(tree, test_dataset, labels):\n",
    "    correct = 0\n",
    "    for count in range(len(test_dataset)):\n",
    "        attribute = list(tree.keys())[0]\n",
    "        values_dict = tree[attribute]\n",
    "        str_value = test_dataset[count][labels.index(attribute)]\n",
    "        if str_value in values_dict:\n",
    "            currentDict = values_dict[str_value]\n",
    "        else:\n",
    "            count_dict = {'e': 0, 'p': 0}\n",
    "            for value in values_dict.values():\n",
    "                if type(value) != dict:\n",
    "                    count_dict[value] += 1\n",
    "            currentDict = max(count_dict, key=count_dict.get)\n",
    "        while type(currentDict) == dict:\n",
    "            attribute = list(currentDict.keys())[0]\n",
    "            values_dict = currentDict[attribute]\n",
    "            str_value = test_dataset[count][labels.index(attribute)]\n",
    "            if str_value in values_dict:\n",
    "                currentDict = values_dict[str_value]\n",
    "            else:\n",
    "                count_dict = {'e': 0, 'p': 0}\n",
    "                for value in values_dict.values():\n",
    "                    if type(value) != dict:\n",
    "                        count_dict[value] += 1\n",
    "                currentDict = max(count_dict, key=count_dict.get)\n",
    "        if test_dataset[count][0] == currentDict:\n",
    "            correct += 1\n",
    "    output = correct*100/len(test_dataset)\n",
    "    return output"
   ]
  },
  {
   "cell_type": "code",
   "execution_count": 181,
   "id": "c0cf7011",
   "metadata": {},
   "outputs": [],
   "source": [
    "def hold_out(dataset,num):\n",
    "    len_train = int(len(dataset)*num)\n",
    "    train_set = mushroom[:len_train]\n",
    "    test_set = mushroom[len_train:]\n",
    "    return train_set,test_set"
   ]
  },
  {
   "cell_type": "code",
   "execution_count": 182,
   "id": "b10b2dad",
   "metadata": {},
   "outputs": [],
   "source": [
    "def visualize(root, indent=0):\n",
    "    if type(root) == dict:\n",
    "        for k, v in root.items():\n",
    "            print(\" \"* indent + f\"{k}:\")\n",
    "            visualize(v, indent+2)\n",
    "    else:\n",
    "        print(\" \"*indent + repr(root))"
   ]
  },
  {
   "cell_type": "code",
   "execution_count": 183,
   "id": "e14e9e28",
   "metadata": {},
   "outputs": [],
   "source": [
    "def calcu_train_test_error(train_set,test_set,tree,mushroom_labels):\n",
    "    test_error = 100 - test(tree, test_set, mushroom_labels_copy)\n",
    "    train_error = 100 - test(tree, train_set, mushroom_labels_copy)\n",
    "    print(\"The test error percentage is :\",test_error)\n",
    "    print(\"The training error percentage is :\",train_error)\n",
    "    return"
   ]
  },
  {
   "cell_type": "code",
   "execution_count": 184,
   "id": "0f93fcec",
   "metadata": {
    "scrolled": false
   },
   "outputs": [
    {
     "name": "stdout",
     "output_type": "stream",
     "text": [
      "odor:\n",
      "  p:\n",
      "    'p'\n",
      "  a:\n",
      "    'e'\n",
      "  l:\n",
      "    'e'\n",
      "  n:\n",
      "    spore-print-color:\n",
      "      n:\n",
      "        'e'\n",
      "      k:\n",
      "        'e'\n",
      "      w:\n",
      "        habitat:\n",
      "          w:\n",
      "            'e'\n",
      "          l:\n",
      "            'e'\n",
      "          d:\n",
      "            'p'\n",
      "      h:\n",
      "        'e'\n",
      "      r:\n",
      "        'p'\n",
      "  f:\n",
      "    'p'\n",
      "  c:\n",
      "    'p'\n",
      "  y:\n",
      "    'p'\n",
      "  s:\n",
      "    'p'\n",
      "The accurancy percentage is : 99.30270713699754\n",
      "The test error percentage is : 0.6972928630024597\n",
      "The training error percentage is : 63.278227224762574\n"
     ]
    }
   ],
   "source": [
    "file = open('agaricus-lepiota.data')\n",
    "mushroom = [line.strip().split(',') for line in file.readlines()]\n",
    "mushroom_labels = ['label','cap-shape', 'cap-surface','cap-color', 'bruises?' , 'odor', 'gill-attachment', 'gill-spacing', 'gill-size',\n",
    "          'gill-color', 'stalk-shape', 'stalk-root', 'stalk-surface-above-ring', 'stalk-surface-below-ring', 'stalk-color-above-ring', \n",
    "          'stalk-color-below-ring', 'veil-type', 'veil-color', 'ring-number', 'ring-type', 'spore-print-color', 'population', 'habitat']\n",
    "mushroom_labels_copy = mushroom_labels.copy()\n",
    "\n",
    "trainset_precent = 0.7\n",
    "train_set,test_set = hold_out(mushroom,trainset_precent)\n",
    "tree = create_decision_tree(train_set,0,3)\n",
    "visualize(tree)\n",
    "print(\"The accurancy percentage is :\",test(tree, test_set, mushroom_labels_copy))\n",
    "calcu_train_test_error(train_set,test_set,tree,mushroom_labels_copy)"
   ]
  }
 ],
 "metadata": {
  "kernelspec": {
   "display_name": "Python 3",
   "language": "python",
   "name": "python3"
  },
  "language_info": {
   "codemirror_mode": {
    "name": "ipython",
    "version": 3
   },
   "file_extension": ".py",
   "mimetype": "text/x-python",
   "name": "python",
   "nbconvert_exporter": "python",
   "pygments_lexer": "ipython3",
   "version": "3.8.8"
  }
 },
 "nbformat": 4,
 "nbformat_minor": 5
}
